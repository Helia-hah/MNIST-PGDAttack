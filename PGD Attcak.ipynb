{
  "nbformat": 4,
  "nbformat_minor": 0,
  "metadata": {
    "colab": {
      "provenance": [],
      "collapsed_sections": []
    },
    "kernelspec": {
      "name": "python3",
      "display_name": "Python 3"
    },
    "language_info": {
      "name": "python"
    },
    "gpuClass": "standard",
    "accelerator": "GPU"
  },
  "cells": [
    {
      "cell_type": "code",
      "source": [
        "import torch.optim as optim\n",
        "import torch.nn as nn\n",
        "import torch\n",
        "from torch.utils.data import DataLoader\n",
        "from torch.optim import Adam\n",
        "import numpy as np\n",
        "import gzip"
      ],
      "metadata": {
        "id": "9aUUL8JzPBZ-"
      },
      "execution_count": 93,
      "outputs": []
    },
    {
      "cell_type": "code",
      "source": [
        "torch.manual_seed(42)"
      ],
      "metadata": {
        "colab": {
          "base_uri": "https://localhost:8080/"
        },
        "id": "a36HKzJ2fnwZ",
        "outputId": "3206abd8-e46f-4c95-c534-132cd66d2590"
      },
      "execution_count": 94,
      "outputs": [
        {
          "output_type": "execute_result",
          "data": {
            "text/plain": [
              "<torch._C.Generator at 0x7f7efa3e8b10>"
            ]
          },
          "metadata": {},
          "execution_count": 94
        }
      ]
    },
    {
      "cell_type": "code",
      "source": [
        "import torch\n",
        "torch.cuda.empty_cache()"
      ],
      "metadata": {
        "id": "Fiwf13H9eTQm"
      },
      "execution_count": 95,
      "outputs": []
    },
    {
      "cell_type": "markdown",
      "source": [
        "Load Dataset"
      ],
      "metadata": {
        "id": "t9b-Ir3EZKAW"
      }
    },
    {
      "cell_type": "code",
      "source": [
        "def training_images():\n",
        "    with gzip.open('/content/train-images-idx3-ubyte.gz', 'r') as f:\n",
        "        # first 4 bytes is a magic number\n",
        "        magic_number = int.from_bytes(f.read(4), 'big')\n",
        "        # second 4 bytes is the number of images\n",
        "        image_count = int.from_bytes(f.read(4), 'big')\n",
        "        # third 4 bytes is the row count\n",
        "        row_count = int.from_bytes(f.read(4), 'big')\n",
        "        # fourth 4 bytes is the column count\n",
        "        column_count = int.from_bytes(f.read(4), 'big')\n",
        "        # rest is the image pixel data, each pixel is stored as an unsigned byte\n",
        "        # pixel values are 0 to 255\n",
        "        image_data = f.read()\n",
        "        images = np.frombuffer(image_data, dtype=np.uint8)\\\n",
        "            .reshape((image_count, row_count, column_count))\n",
        "        return images\n",
        "\n",
        "\n",
        "def training_labels():\n",
        "    with gzip.open('/content/train-labels-idx1-ubyte.gz', 'r') as f:\n",
        "        # first 4 bytes is a magic number\n",
        "        magic_number = int.from_bytes(f.read(4), 'big')\n",
        "        # second 4 bytes is the number of labels\n",
        "        label_count = int.from_bytes(f.read(4), 'big')\n",
        "        # rest is the label data, each label is stored as unsigned byte\n",
        "        # label values are 0 to 9\n",
        "        label_data = f.read()\n",
        "        labels = np.frombuffer(label_data, dtype=np.uint8)\n",
        "        return labels"
      ],
      "metadata": {
        "id": "GBBUvs5PWTad"
      },
      "execution_count": 96,
      "outputs": []
    },
    {
      "cell_type": "code",
      "source": [
        "x_train = training_images()\n",
        "x_train.shape"
      ],
      "metadata": {
        "colab": {
          "base_uri": "https://localhost:8080/"
        },
        "id": "MJqGh1ZZWc2O",
        "outputId": "eaaa85e4-bac1-4442-cb9f-cb762241d78e"
      },
      "execution_count": 97,
      "outputs": [
        {
          "output_type": "execute_result",
          "data": {
            "text/plain": [
              "(60000, 28, 28)"
            ]
          },
          "metadata": {},
          "execution_count": 97
        }
      ]
    },
    {
      "cell_type": "code",
      "source": [
        "y_train = training_labels()\n",
        "y_train.shape"
      ],
      "metadata": {
        "colab": {
          "base_uri": "https://localhost:8080/"
        },
        "id": "WfiYeYYjWePO",
        "outputId": "d350b825-2f02-465b-e339-706530a0e8f9"
      },
      "execution_count": 98,
      "outputs": [
        {
          "output_type": "execute_result",
          "data": {
            "text/plain": [
              "(60000,)"
            ]
          },
          "metadata": {},
          "execution_count": 98
        }
      ]
    },
    {
      "cell_type": "markdown",
      "source": [
        "Display an example"
      ],
      "metadata": {
        "id": "aa8bIoFAZFZX"
      }
    },
    {
      "cell_type": "code",
      "source": [
        "from matplotlib import pyplot as plt\n",
        "image = x_train[2]\n",
        "print(y_train[2])\n",
        "plt.imshow(image, cmap='gray')\n",
        "plt.show()\n"
      ],
      "metadata": {
        "colab": {
          "base_uri": "https://localhost:8080/",
          "height": 282
        },
        "id": "8ORd4eJNXrcX",
        "outputId": "b7d83bd8-7936-4b7e-f44a-9570c6cc2973"
      },
      "execution_count": 99,
      "outputs": [
        {
          "output_type": "stream",
          "name": "stdout",
          "text": [
            "4\n"
          ]
        },
        {
          "output_type": "display_data",
          "data": {
            "text/plain": [
              "<Figure size 432x288 with 1 Axes>"
            ],
            "image/png": "[encoded data removed]"
          },
          "metadata": {
            "needs_background": "light"
          }
        }
      ]
    },
    {
      "cell_type": "code",
      "source": [
        "x_train = x_train.reshape(60000,1, 28, 28)\n",
        "x_train.shape"
      ],
      "metadata": {
        "colab": {
          "base_uri": "https://localhost:8080/"
        },
        "id": "qpGfoqVxaoZm",
        "outputId": "bd5b7473-0891-4ad2-d8a5-83dceb83a8a0"
      },
      "execution_count": 100,
      "outputs": [
        {
          "output_type": "execute_result",
          "data": {
            "text/plain": [
              "(60000, 1, 28, 28)"
            ]
          },
          "metadata": {},
          "execution_count": 100
        }
      ]
    },
    {
      "cell_type": "code",
      "source": [
        "x_s=torch.tensor(x_train).type(torch.FloatTensor)\n",
        "y_s=torch.tensor(y_train)"
      ],
      "metadata": {
        "id": "MhKR47QAaqwX"
      },
      "execution_count": 101,
      "outputs": []
    },
    {
      "cell_type": "code",
      "source": [
        "x_y_concat = zip(x_s,y_s)"
      ],
      "metadata": {
        "id": "_L2wQ7I5vJ5i"
      },
      "execution_count": 102,
      "outputs": []
    },
    {
      "cell_type": "code",
      "source": [
        "x_y_concat = list(x_y_concat)\n",
        "x_y_concat[1][1]"
      ],
      "metadata": {
        "colab": {
          "base_uri": "https://localhost:8080/"
        },
        "id": "A5F6qk-nviQO",
        "outputId": "10c9e048-574d-456c-f50b-c2832746f6ec"
      },
      "execution_count": 103,
      "outputs": [
        {
          "output_type": "execute_result",
          "data": {
            "text/plain": [
              "tensor(0, dtype=torch.uint8)"
            ]
          },
          "metadata": {},
          "execution_count": 103
        }
      ]
    },
    {
      "cell_type": "code",
      "source": [
        "batch_size = 64\n",
        "\n",
        "device = torch.device(\"cuda\" if torch.cuda.is_available() else \"cpu\")"
      ],
      "metadata": {
        "id": "cDHdYWIUaPbn"
      },
      "execution_count": 104,
      "outputs": []
    },
    {
      "cell_type": "code",
      "source": [
        "trainDataLoader = DataLoader(x_y_concat, shuffle=True,batch_size=batch_size)\n",
        "trainSteps = len(trainDataLoader.dataset) // batch_size"
      ],
      "metadata": {
        "id": "Dos-Ik0Zh6Lt"
      },
      "execution_count": 105,
      "outputs": []
    },
    {
      "cell_type": "markdown",
      "source": [
        "Convolutional Neural Network"
      ],
      "metadata": {
        "id": "PLrA1qUvZPG-"
      }
    },
    {
      "cell_type": "code",
      "source": [
        "class CNN(nn.Module):\n",
        "\n",
        "    def __init__(self):\n",
        "        super(CNN, self).__init__()\n",
        "\n",
        "        self.conv1 = nn.Conv2d(1, 32, kernel_size=3, padding='same')\n",
        "        self.relu = nn.ReLU()\n",
        "        self.conv1_bn=nn.BatchNorm2d(32)\n",
        "        self.max_pool2d = nn.MaxPool2d(kernel_size=(2, 2), stride=(2, 2))\n",
        "        self.conv2 = nn.Conv2d(32, 64, kernel_size=3, padding='same')\n",
        "        self.conv2_bn=nn.BatchNorm2d(64)\n",
        "        self.conv3 = nn.Conv2d(64, 64, kernel_size=3, padding='same')\n",
        "        self.conv3_bn=nn.BatchNorm2d(64)\n",
        "        \n",
        "        self.fc1 = nn.Linear(576, 128)\n",
        "        self.fc2 = nn.Linear(128, 10)\n",
        "\n",
        "        self.logSoftmax = torch.nn.LogSoftmax(dim=1)\n",
        "\n",
        "      \n",
        "    def forward(self, x):\n",
        "\n",
        "        x = self.conv1(x)\n",
        "        x = self.relu(x)\n",
        "        x = self.conv1_bn(x)\n",
        "        x = self.max_pool2d(x) \n",
        " \n",
        "        x = self.conv2(x)\n",
        "        x = self.relu(x)\n",
        "        x = self.conv2_bn(x)\n",
        "        x = self.max_pool2d(x)\n",
        "\n",
        "        x = self.conv3(x)\n",
        "        x = self.relu(x)\n",
        "        x = self.conv3_bn(x)\n",
        "        x = self.max_pool2d(x)\n",
        "\n",
        "        x = torch.flatten(x, 1)\n",
        "        x = self.fc1(x)\n",
        "        x = self.relu(x) \n",
        "        x = self.fc2(x)\n",
        "        x = self.logSoftmax(x)\n",
        "\n",
        "        return x"
      ],
      "metadata": {
        "id": "HsxJQ7b2vaTe"
      },
      "execution_count": 106,
      "outputs": []
    },
    {
      "cell_type": "markdown",
      "source": [
        "**PGD Attack- Non targeted**"
      ],
      "metadata": {
        "id": "FwdiKFPDAXWA"
      }
    },
    {
      "cell_type": "code",
      "source": [
        "def PGD_Attack(x,y,model,eta,alfa,steps):\n",
        "  \"\"\"\n",
        "  x = input samples\n",
        "  y = true labels \n",
        "  model = neural network\n",
        "  eta =  perturbation radius\n",
        "  alfa = step size \n",
        "  steps = number of steps for gradient descent\n",
        "  \"\"\"\n",
        "  random = np.random.uniform(-eta,eta,(1,28,28))\n",
        "  noise = torch.tensor(random)\n",
        "  noise = noise.type(torch.LongTensor)\n",
        "  noise = noise.to(device)\n",
        "  \n",
        "  x_hat = x + noise\n",
        "\n",
        "  for step in range (0,steps):\n",
        "\n",
        "    x_hat = torch.tensor(x_hat,requires_grad=True)\n",
        "\n",
        "    pred = model(x_hat)\n",
        "    loss = lossFn(pred, y)\n",
        "\n",
        "    optimizer.zero_grad()\n",
        "    loss.backward()\n",
        "    d_x = x_hat.grad\n",
        "\n",
        "    #update x\n",
        "    z = x_hat + (alfa*torch.sign(d_x))\n",
        "    #project z\n",
        "    max = torch.maximum(z, x-eta) \n",
        "    x_new = torch.minimum(max, x+eta)\n",
        "\n",
        "    x_hat = x_new\n",
        "\n",
        "\n",
        "  return x_hat\n",
        "\n"
      ],
      "metadata": {
        "id": "bRUT87h8kZzH"
      },
      "execution_count": 107,
      "outputs": []
    },
    {
      "cell_type": "markdown",
      "source": [
        "**PGD Attack- targeted**"
      ],
      "metadata": {
        "id": "ADi6meomVz22"
      }
    },
    {
      "cell_type": "code",
      "source": [
        "def PGD_AttackTarget(x,y,model,eta,alfa,steps):\n",
        "  \"\"\"\n",
        "  x = input samples\n",
        "  y = labels \n",
        "  model = neural network\n",
        "  eta =  perturbation radius\n",
        "  alfa = step size \n",
        "  steps = number of steps for gradient descent\n",
        "  \"\"\"\n",
        "\n",
        "  out = model(x)\n",
        "  for i in range(len(y)):\n",
        "    a = out.argmax(1)\n",
        "    out[i][a]=0\n",
        "  labels = out.argmax(1)\n",
        "\n",
        "  random = np.random.uniform(-eta,eta,(1,28,28))\n",
        "  noise = torch.tensor(random)\n",
        "  noise = noise.type(torch.LongTensor)\n",
        "  noise = noise.to(device)\n",
        "  \n",
        "  x_hat = x + noise\n",
        "\n",
        "  for step in range (0,steps):\n",
        "\n",
        "    x_hat = torch.tensor(x_hat,requires_grad=True)\n",
        "\n",
        "    pred = model(x_hat)\n",
        "    loss = lossFn(pred, labels)\n",
        "\n",
        "    optimizer.zero_grad()\n",
        "    loss.backward()\n",
        "    d_x = x_hat.grad\n",
        "\n",
        "    #update x\n",
        "    z = x_hat - (alfa*torch.sign(d_x))\n",
        "    #project z\n",
        "    max = torch.maximum(z, x-eta) \n",
        "    x_new = torch.minimum(max, x+eta)\n",
        "\n",
        "    x_hat = x_new\n",
        "\n",
        "\n",
        "  return x_hat\n",
        "\n"
      ],
      "metadata": {
        "id": "IuPwaBCIV3lL"
      },
      "execution_count": 108,
      "outputs": []
    },
    {
      "cell_type": "code",
      "source": [
        "torch.cuda.is_available()"
      ],
      "metadata": {
        "colab": {
          "base_uri": "https://localhost:8080/"
        },
        "id": "cvMizJYn53ta",
        "outputId": "3a05cc51-20c5-438a-a723-e56d50c9e0ef"
      },
      "execution_count": 109,
      "outputs": [
        {
          "output_type": "execute_result",
          "data": {
            "text/plain": [
              "True"
            ]
          },
          "metadata": {},
          "execution_count": 109
        }
      ]
    },
    {
      "cell_type": "code",
      "source": [
        "def train(trainDataLoader,model_CNN,n_epochs,state,eta,alfa,steps):\n",
        "  \"\"\"\n",
        "  xtrainDataLoader = combine of images and labels for a batch\n",
        "  model_CNN = neural network\n",
        "  state = 0 for non targetted / 1 for targetted\n",
        "  eta =  perturbation radius\n",
        "  alfa = step size \n",
        "  steps = number of steps for gradient descent\n",
        "  \"\"\"\n",
        "  train_counter = []\n",
        "  TrainLoss = []\n",
        "  TrainLoss_un = []\n",
        "  trainCorrectAll=[]\n",
        "  trainCorrectAll_un=[]\n",
        "\n",
        "  for e in range(0, n_epochs):\n",
        "  \n",
        "    model_CNN.train()\n",
        "    trainCorrect = 0\n",
        "    trainCorrect_un = 0\n",
        "    totalTrainLoss = 0\n",
        "    totalTrainLoss_un = 0\n",
        "\n",
        "    print(f\"epoch= {e}\")\n",
        "    for (x, y) in trainDataLoader:\n",
        "\n",
        "\t\t  # send the input to the device\n",
        "      (x, y) = (x.to(device), y.to(device))\n",
        "    \n",
        "      #PGD attack\n",
        "      if state ==0:\n",
        "         x_attack = PGD_Attack(x,y,model_CNN,eta,alfa,steps)\n",
        "      else:\n",
        "         x_attack = PGD_AttackTarget(x,y,model_CNN,eta,alfa,steps)\n",
        "   \n",
        "      \n",
        "      # Loss & accuracy for unperturbed data\n",
        "      prediction = model_CNN(x)\n",
        "      loss_N = lossFn(prediction, y)\n",
        "      totalTrainLoss_un += float(loss_N)\n",
        "      trainCorrect_un += (prediction.argmax(1) == y).type(\n",
        "    \t  torch.float).sum().item()\n",
        "\n",
        "      # Loss & accuracy for perturbed data\n",
        "      pred = model_CNN(x_attack)\n",
        "      loss = lossFn(pred, y)\n",
        "\t\n",
        "      opt.zero_grad()\n",
        "      loss.backward()\n",
        "      opt.step()\n",
        "\t\t\n",
        "      totalTrainLoss +=float(loss)\n",
        "      trainCorrect += (pred.argmax(1) == y).type(\n",
        "    \t  torch.float).sum().item()\n",
        "     \n",
        "    \n",
        "     \n",
        "    train_counter.append(e)\n",
        "    trainCorrectAll.append(trainCorrect/60000)\n",
        "    trainCorrectAll_un.append(trainCorrect_un/60000)\n",
        "    TrainLoss.append(totalTrainLoss)\n",
        "    TrainLoss_un.append(totalTrainLoss_un)\n",
        "\n",
        "  return(train_counter,trainCorrectAll,trainCorrectAll_un,TrainLoss,TrainLoss_un)\n",
        "  \t"
      ],
      "metadata": {
        "id": "1O-bPuw02Uax"
      },
      "execution_count": 110,
      "outputs": []
    },
    {
      "cell_type": "markdown",
      "source": [
        "**Classifier 1**"
      ],
      "metadata": {
        "id": "iNnZZ5mVO42z"
      }
    },
    {
      "cell_type": "code",
      "source": [
        "#Setting of paratemers for PGD \n",
        "learning_rate = 0.001\n",
        "model_CNN = CNN().to(device)\n",
        "optimizer = torch.optim.SGD(model_CNN.parameters(), lr=learning_rate)\n",
        "lossFn = nn.NLLLoss()\n",
        " \n"
      ],
      "metadata": {
        "id": "VG7Hzyj8MWBp"
      },
      "execution_count": 111,
      "outputs": []
    },
    {
      "cell_type": "code",
      "source": [
        "#Setting of parameters for training\n",
        "n_epochs = 10 \n",
        "learning_rate = 0.001\n",
        "\n",
        "opt = Adam(model_CNN.parameters(), lr= learning_rate)\n",
        "\n"
      ],
      "metadata": {
        "id": "f6yYOb1FMoLY"
      },
      "execution_count": 112,
      "outputs": []
    },
    {
      "cell_type": "code",
      "source": [
        "train_counter,trainCorrectAll,trainCorrectAll_un,TrainLoss,TrainLoss_un = train(trainDataLoader,model_CNN,n_epochs,0,0.3,0.02,20)"
      ],
      "metadata": {
        "colab": {
          "base_uri": "https://localhost:8080/"
        },
        "id": "16pekQdt3oPB",
        "outputId": "ba105044-176e-4071-e959-43918f17715c"
      },
      "execution_count": 113,
      "outputs": [
        {
          "output_type": "stream",
          "name": "stdout",
          "text": [
            "epoch= 0\n"
          ]
        },
        {
          "output_type": "stream",
          "name": "stderr",
          "text": [
            "/usr/local/lib/python3.7/dist-packages/ipykernel_launcher.py:19: UserWarning: To copy construct from a tensor, it is recommended to use sourceTensor.clone().detach() or sourceTensor.clone().detach().requires_grad_(True), rather than torch.tensor(sourceTensor).\n"
          ]
        },
        {
          "output_type": "stream",
          "name": "stdout",
          "text": [
            "epoch= 1\n",
            "epoch= 2\n",
            "epoch= 3\n",
            "epoch= 4\n",
            "epoch= 5\n",
            "epoch= 6\n",
            "epoch= 7\n",
            "epoch= 8\n",
            "epoch= 9\n"
          ]
        }
      ]
    },
    {
      "cell_type": "code",
      "source": [
        "import matplotlib.pyplot as plt\n",
        "\n",
        "plt.plot(train_counter,TrainLoss,color='m',label='perturbed')\n",
        "plt.plot(train_counter,TrainLoss_un, color='b',label='unperturbed')\n",
        "\n",
        "plt.xlabel('Epoch')\n",
        "plt.ylabel('Loss')\n",
        "plt.title('Classifier 1')\n",
        "plt.legend()\n",
        "plt.show()"
      ],
      "metadata": {
        "colab": {
          "base_uri": "https://localhost:8080/",
          "height": 295
        },
        "id": "x3x53KAUozvG",
        "outputId": "590cdfc9-5adb-4164-d7b8-d241f16bdb83"
      },
      "execution_count": 114,
      "outputs": [
        {
          "output_type": "display_data",
          "data": {
            "text/plain": [
              "<Figure size 432x288 with 1 Axes>"
            ],
            "image/png": "[encoded data removed]"
          },
          "metadata": {
            "needs_background": "light"
          }
        }
      ]
    },
    {
      "cell_type": "code",
      "source": [
        "plt.plot(train_counter,trainCorrectAll, color='m',label='perturbed')\n",
        "plt.plot(train_counter,trainCorrectAll_un, color='b',label='unperturbed')\n",
        "plt.xlabel('Epoch')\n",
        "plt.ylabel('Accuracy')\n",
        "plt.title('Classifier 1')\n",
        "plt.legend()\n",
        "plt.show()"
      ],
      "metadata": {
        "colab": {
          "base_uri": "https://localhost:8080/",
          "height": 295
        },
        "id": "3zzsmkd4sjWD",
        "outputId": "6250a4b8-bf44-469d-914e-93ed4dd5db28"
      },
      "execution_count": 115,
      "outputs": [
        {
          "output_type": "display_data",
          "data": {
            "text/plain": [
              "<Figure size 432x288 with 1 Axes>"
            ],
            "image/png": "[encoded data removed]"
          },
          "metadata": {
            "needs_background": "light"
          }
        }
      ]
    },
    {
      "cell_type": "code",
      "source": [
        "# calculate the training accuracy and loss for perturbed and unperturbed\n",
        "accuracy = trainCorrectAll[len(trainCorrectAll)-1] \n",
        "accuracy_un = trainCorrectAll_un[len(trainCorrectAll_un)-1]\n",
        "print(\"EPOCH: {}\".format( n_epochs))\n",
        "print(\"Train accuracy-perturbed: {:.4f}, Train accuracy-unperturbed: {:.4f}\".format(\n",
        "\t\taccuracy,accuracy_un))\n",
        "print(\"loss-perturbed: {:.4f}, Train loss-unperturbed: {:.4f}\".format(\n",
        "\t\tTrainLoss[len(TrainLoss)-1], TrainLoss_un[len(TrainLoss_un)-1]))\n"
      ],
      "metadata": {
        "colab": {
          "base_uri": "https://localhost:8080/"
        },
        "id": "oRZFxbNrOJEH",
        "outputId": "d94d1fa0-66b4-4c1a-a106-374d039a3a6e"
      },
      "execution_count": 72,
      "outputs": [
        {
          "output_type": "stream",
          "name": "stdout",
          "text": [
            "EPOCH: 10\n",
            "Train accuracy-perturbed: 0.9980, Train accuracy-unperturbed: 0.9984\n",
            "loss-perturbed: 5.9099, Train loss-unperturbed: 4.6999\n"
          ]
        }
      ]
    },
    {
      "cell_type": "markdown",
      "source": [
        "**Classifier 2**"
      ],
      "metadata": {
        "id": "g8MQmS0PO9on"
      }
    },
    {
      "cell_type": "code",
      "source": [
        "learning_rate = 0.001\n",
        "model_CNN2 = CNN().to(device)\n",
        "optimizer = torch.optim.SGD(model_CNN2.parameters(), lr=learning_rate)\n",
        "lossFn = nn.NLLLoss()"
      ],
      "metadata": {
        "id": "EsygeWrcPBKm"
      },
      "execution_count": 73,
      "outputs": []
    },
    {
      "cell_type": "code",
      "source": [
        "n_epochs = 10 \n",
        "learning_rate = 0.001\n",
        "\n",
        "opt = Adam(model_CNN2.parameters(), lr= learning_rate)\n",
        "lossFn = nn.NLLLoss()\n"
      ],
      "metadata": {
        "id": "muVRjC7ePBa-"
      },
      "execution_count": 74,
      "outputs": []
    },
    {
      "cell_type": "code",
      "source": [
        "train_counter,trainCorrectAll,trainCorrectAll_un,TrainLoss,TrainLoss_un = train(trainDataLoader,model_CNN2,n_epochs,0,0.3,0.5,1)"
      ],
      "metadata": {
        "colab": {
          "base_uri": "https://localhost:8080/"
        },
        "id": "LlKJrSOYPBht",
        "outputId": "467a3142-73bb-422c-f14b-b7ef9c0d82f2"
      },
      "execution_count": 75,
      "outputs": [
        {
          "output_type": "stream",
          "name": "stdout",
          "text": [
            "epoch= 0\n"
          ]
        },
        {
          "output_type": "stream",
          "name": "stderr",
          "text": [
            "/usr/local/lib/python3.7/dist-packages/ipykernel_launcher.py:19: UserWarning: To copy construct from a tensor, it is recommended to use sourceTensor.clone().detach() or sourceTensor.clone().detach().requires_grad_(True), rather than torch.tensor(sourceTensor).\n"
          ]
        },
        {
          "output_type": "stream",
          "name": "stdout",
          "text": [
            "epoch= 1\n",
            "epoch= 2\n",
            "epoch= 3\n",
            "epoch= 4\n",
            "epoch= 5\n",
            "epoch= 6\n",
            "epoch= 7\n",
            "epoch= 8\n",
            "epoch= 9\n"
          ]
        }
      ]
    },
    {
      "cell_type": "code",
      "source": [
        "import matplotlib.pyplot as plt\n",
        "plt.plot(train_counter,TrainLoss, color='m',label='perturbed')\n",
        "plt.plot(train_counter,TrainLoss_un, color='b',label='unperturbed')\n",
        "plt.xlabel('Epoch')\n",
        "plt.ylabel('Loss')\n",
        "plt.title('Classifier 2')\n",
        "plt.legend()\n",
        "plt.show()"
      ],
      "metadata": {
        "colab": {
          "base_uri": "https://localhost:8080/",
          "height": 295
        },
        "id": "Im9RovhePBka",
        "outputId": "df5d7bc9-48c6-4bd2-ad31-7eaa4c5a2ba5"
      },
      "execution_count": 76,
      "outputs": [
        {
          "output_type": "display_data",
          "data": {
            "text/plain": [
              "<Figure size 432x288 with 1 Axes>"
            ],
            "image/png": "[encoded data removed]"
          },
          "metadata": {
            "needs_background": "light"
          }
        }
      ]
    },
    {
      "cell_type": "code",
      "source": [
        "plt.plot(train_counter,trainCorrectAll, color='m',label='perturbed')\n",
        "plt.plot(train_counter,trainCorrectAll_un, color='b',label='unperturbed')\n",
        "plt.xlabel('Epoch')\n",
        "plt.ylabel('Accuracy')\n",
        "plt.title('Classifier 2')\n",
        "plt.legend()\n",
        "plt.show()"
      ],
      "metadata": {
        "id": "iagpTEWNUcYH",
        "colab": {
          "base_uri": "https://localhost:8080/",
          "height": 295
        },
        "outputId": "a5ab07da-d163-4603-bd18-5ef3cc6f9962"
      },
      "execution_count": 77,
      "outputs": [
        {
          "output_type": "display_data",
          "data": {
            "text/plain": [
              "<Figure size 432x288 with 1 Axes>"
            ],
            "image/png": "[encoded data removed]"
          },
          "metadata": {
            "needs_background": "light"
          }
        }
      ]
    },
    {
      "cell_type": "code",
      "source": [
        "# calculate the training accuracy and loss for perturbed and unperturbed\n",
        "accuracy = trainCorrectAll[len(trainCorrectAll)-1] \n",
        "accuracy_un = trainCorrectAll_un[len(trainCorrectAll_un)-1]\n",
        "print(\"EPOCH: {}\".format( n_epochs))\n",
        "print(\"Train accuracy-perturbed: {:.4f}, Train accuracy-unperturbed: {:.4f}\".format(\n",
        "\t\taccuracy,accuracy_un))\n",
        "print(\"loss-perturbed: {:.4f}, Train loss-unperturbed: {:.4f}\".format(\n",
        "\t\tTrainLoss[len(TrainLoss)-1], TrainLoss_un[len(TrainLoss_un)-1]))\n"
      ],
      "metadata": {
        "colab": {
          "base_uri": "https://localhost:8080/"
        },
        "id": "WjAFvgAtPBqO",
        "outputId": "3b6bb803-89c4-4943-f4b9-39f268d3a488"
      },
      "execution_count": 78,
      "outputs": [
        {
          "output_type": "stream",
          "name": "stdout",
          "text": [
            "EPOCH: 10\n",
            "Train accuracy-perturbed: 0.9965, Train accuracy-unperturbed: 0.9970\n",
            "loss-perturbed: 10.4764, Train loss-unperturbed: 8.6654\n"
          ]
        }
      ]
    },
    {
      "cell_type": "code",
      "source": [],
      "metadata": {
        "id": "qBVERmJqPBtf"
      },
      "execution_count": null,
      "outputs": []
    },
    {
      "cell_type": "markdown",
      "source": [
        "**Classifier 3**"
      ],
      "metadata": {
        "id": "PH9ZGAfBcq2t"
      }
    },
    {
      "cell_type": "code",
      "source": [
        "learning_rate = 0.001\n",
        "model_CNN3 = CNN().to(device)\n",
        "optimizer = torch.optim.SGD(model_CNN3.parameters(), lr=learning_rate)\n",
        "lossFn = nn.NLLLoss()"
      ],
      "metadata": {
        "id": "v-at2Vhicpn2"
      },
      "execution_count": 116,
      "outputs": []
    },
    {
      "cell_type": "code",
      "source": [
        "n_epochs = 10 \n",
        "learning_rate = 0.001\n",
        "\n",
        "opt = Adam(model_CNN3.parameters(), lr= learning_rate)\n",
        "lossFn = nn.NLLLoss()\n"
      ],
      "metadata": {
        "id": "_8Uew23Ucpq4"
      },
      "execution_count": 117,
      "outputs": []
    },
    {
      "cell_type": "code",
      "source": [
        "train_counter,trainCorrectAll,trainCorrectAll_un,TrainLoss,TrainLoss_un = train(trainDataLoader,model_CNN3,n_epochs,1,0.3,0.02,20)"
      ],
      "metadata": {
        "id": "xJaQ974gcpwr",
        "colab": {
          "base_uri": "https://localhost:8080/"
        },
        "outputId": "12c3c7e3-6272-4621-d079-8beed2bae04c"
      },
      "execution_count": 118,
      "outputs": [
        {
          "output_type": "stream",
          "name": "stdout",
          "text": [
            "epoch= 0\n"
          ]
        },
        {
          "output_type": "stream",
          "name": "stderr",
          "text": [
            "/usr/local/lib/python3.7/dist-packages/ipykernel_launcher.py:26: UserWarning: To copy construct from a tensor, it is recommended to use sourceTensor.clone().detach() or sourceTensor.clone().detach().requires_grad_(True), rather than torch.tensor(sourceTensor).\n"
          ]
        },
        {
          "output_type": "stream",
          "name": "stdout",
          "text": [
            "epoch= 1\n",
            "epoch= 2\n",
            "epoch= 3\n",
            "epoch= 4\n",
            "epoch= 5\n",
            "epoch= 6\n",
            "epoch= 7\n",
            "epoch= 8\n",
            "epoch= 9\n"
          ]
        }
      ]
    },
    {
      "cell_type": "code",
      "source": [
        "import matplotlib.pyplot as plt\n",
        "plt.plot(train_counter,TrainLoss, color='m',label='perturbed')\n",
        "plt.plot(train_counter,TrainLoss_un, color='b',label='unperturbed')\n",
        "plt.xlabel('Epoch')\n",
        "plt.ylabel('Loss')\n",
        "plt.title('Classifier 3')\n",
        "plt.legend()\n",
        "plt.show()"
      ],
      "metadata": {
        "id": "3B3-_NO8cpzh",
        "colab": {
          "base_uri": "https://localhost:8080/",
          "height": 295
        },
        "outputId": "c84adb39-f9fb-44d4-a1cd-18d379cee333"
      },
      "execution_count": 119,
      "outputs": [
        {
          "output_type": "display_data",
          "data": {
            "text/plain": [
              "<Figure size 432x288 with 1 Axes>"
            ],
            "image/png": "[encoded data removed]"
          },
          "metadata": {
            "needs_background": "light"
          }
        }
      ]
    },
    {
      "cell_type": "code",
      "source": [
        "plt.plot(train_counter,trainCorrectAll, color='m',label='perturbed')\n",
        "plt.plot(train_counter,trainCorrectAll_un, color='b',label='unperturbed')\n",
        "plt.xlabel('Epoch')\n",
        "plt.ylabel('Accuracy')\n",
        "plt.title('Classifier 3')\n",
        "plt.legend()\n",
        "plt.show()"
      ],
      "metadata": {
        "colab": {
          "base_uri": "https://localhost:8080/",
          "height": 295
        },
        "id": "qw9patPrUTKJ",
        "outputId": "3455cf48-eb1d-47ad-fa2a-2d90f3f31819"
      },
      "execution_count": 120,
      "outputs": [
        {
          "output_type": "display_data",
          "data": {
            "text/plain": [
              "<Figure size 432x288 with 1 Axes>"
            ],
            "image/png": "[encoded data removed]"
          },
          "metadata": {
            "needs_background": "light"
          }
        }
      ]
    },
    {
      "cell_type": "code",
      "source": [
        "# calculate the training accuracy and loss for perturbed and unperturbed\n",
        "accuracy = trainCorrectAll[len(trainCorrectAll)-1] \n",
        "accuracy_un = trainCorrectAll_un[len(trainCorrectAll_un)-1]\n",
        "print(\"EPOCH: {}\".format( n_epochs))\n",
        "print(\"Train accuracy-perturbed: {:.4f}, Train accuracy-unperturbed: {:.4f}\".format(\n",
        "\t\taccuracy,accuracy_un))\n",
        "print(\"loss-perturbed: {:.4f}, Train loss-unperturbed: {:.4f}\".format(\n",
        "\t\tTrainLoss[len(TrainLoss)-1], TrainLoss_un[len(TrainLoss_un)-1]))\n"
      ],
      "metadata": {
        "id": "DcZSAnWHcp2O",
        "colab": {
          "base_uri": "https://localhost:8080/"
        },
        "outputId": "5483cb43-2d6c-4f55-c81d-fef281c835b8"
      },
      "execution_count": 121,
      "outputs": [
        {
          "output_type": "stream",
          "name": "stdout",
          "text": [
            "EPOCH: 10\n",
            "Train accuracy-perturbed: 0.9980, Train accuracy-unperturbed: 0.9978\n",
            "loss-perturbed: 5.2708, Train loss-unperturbed: 6.2239\n"
          ]
        }
      ]
    },
    {
      "cell_type": "code",
      "source": [],
      "metadata": {
        "id": "e6jMxxyJPBw1"
      },
      "execution_count": null,
      "outputs": []
    },
    {
      "cell_type": "code",
      "source": [],
      "metadata": {
        "id": "f5ZoZtUTrjxQ"
      },
      "execution_count": null,
      "outputs": []
    },
    {
      "cell_type": "code",
      "source": [],
      "metadata": {
        "id": "XvWF92bfrj4W"
      },
      "execution_count": null,
      "outputs": []
    },
    {
      "cell_type": "code",
      "source": [],
      "metadata": {
        "id": "w8i-osaXrj95"
      },
      "execution_count": null,
      "outputs": []
    },
    {
      "cell_type": "markdown",
      "source": [
        "## **Evaluation**"
      ],
      "metadata": {
        "id": "BhYEdbSF7keV"
      }
    },
    {
      "cell_type": "code",
      "source": [
        "def testing_images():\n",
        "    with gzip.open('/content/t10k-images-idx3-ubyte.gz', 'r') as f:\n",
        "        # first 4 bytes is a magic number\n",
        "        magic_number = int.from_bytes(f.read(4), 'big')\n",
        "        # second 4 bytes is the number of images\n",
        "        image_count = int.from_bytes(f.read(4), 'big')\n",
        "        # third 4 bytes is the row count\n",
        "        row_count = int.from_bytes(f.read(4), 'big')\n",
        "        # fourth 4 bytes is the column count\n",
        "        column_count = int.from_bytes(f.read(4), 'big')\n",
        "        # rest is the image pixel data, each pixel is stored as an unsigned byte\n",
        "        # pixel values are 0 to 255\n",
        "        image_data = f.read()\n",
        "        images = np.frombuffer(image_data, dtype=np.uint8)\\\n",
        "            .reshape((image_count, row_count, column_count))\n",
        "        return images\n",
        "\n",
        "\n",
        "def testing_labels():\n",
        "    with gzip.open('/content/t10k-labels-idx1-ubyte.gz', 'r') as f:\n",
        "        # first 4 bytes is a magic number\n",
        "        magic_number = int.from_bytes(f.read(4), 'big')\n",
        "        # second 4 bytes is the number of labels\n",
        "        label_count = int.from_bytes(f.read(4), 'big')\n",
        "        # rest is the label data, each label is stored as unsigned byte\n",
        "        # label values are 0 to 9\n",
        "        label_data = f.read()\n",
        "        labels = np.frombuffer(label_data, dtype=np.uint8)\n",
        "        return labels"
      ],
      "metadata": {
        "id": "nPMK--0IkZ6v"
      },
      "execution_count": 122,
      "outputs": []
    },
    {
      "cell_type": "code",
      "source": [
        "x_test = testing_images()\n",
        "x_test.shape"
      ],
      "metadata": {
        "colab": {
          "base_uri": "https://localhost:8080/"
        },
        "id": "KQOhhZT0N8s0",
        "outputId": "a3eb08b7-ab5d-4ac1-87ec-9ccf76a406c0"
      },
      "execution_count": 123,
      "outputs": [
        {
          "output_type": "execute_result",
          "data": {
            "text/plain": [
              "(10000, 28, 28)"
            ]
          },
          "metadata": {},
          "execution_count": 123
        }
      ]
    },
    {
      "cell_type": "code",
      "source": [
        "y_test = testing_labels()\n",
        "y_test.shape"
      ],
      "metadata": {
        "colab": {
          "base_uri": "https://localhost:8080/"
        },
        "id": "iYtFWdt3N813",
        "outputId": "d59e1ca8-a772-4f28-ab3f-db2e26f4533a"
      },
      "execution_count": 124,
      "outputs": [
        {
          "output_type": "execute_result",
          "data": {
            "text/plain": [
              "(10000,)"
            ]
          },
          "metadata": {},
          "execution_count": 124
        }
      ]
    },
    {
      "cell_type": "code",
      "source": [
        "x_st = x_test.reshape(10000,1,28,28)\n"
      ],
      "metadata": {
        "id": "IL3wBxp_N85J"
      },
      "execution_count": 125,
      "outputs": []
    },
    {
      "cell_type": "code",
      "source": [
        "x_st = torch.tensor(x_st).type(torch.FloatTensor)\n",
        "x_st = x_st.to(device)\n",
        "y_st = torch.tensor(y_test)\n",
        "y_st = y_st.to(device)"
      ],
      "metadata": {
        "id": "ZPmAEQybN87w"
      },
      "execution_count": 126,
      "outputs": []
    },
    {
      "cell_type": "code",
      "source": [
        "def test(x,y,model,state,eta):\n",
        "  '''\n",
        "  x = test images\n",
        "  y = test labels\n",
        "  state = 0 for non targetted / 1 for targetted\n",
        "  eta =  perturbation radius\n",
        "  '''\n",
        "\n",
        "  model.eval()\n",
        "\n",
        "  testCorrect = 0\n",
        "  show = []\n",
        "\n",
        "  if state ==0:\n",
        "      x_attack = PGD_Attack(x,y,model,eta,0.01,40)\n",
        "  else:\n",
        "      x_attack = PGD_AttackTarget(x,y,model,eta,0.01,40)\n",
        "\n",
        "  output = model(x_attack)\n",
        "\n",
        "  show.append(x_attack[0])\n",
        "  show.append(x_attack[1])\n",
        "  \n",
        "  testCorrect += (output.argmax(1) == y).type(\n",
        "    \ttorch.float).sum().item()\n",
        " \n",
        "  testAccuracy = testCorrect / 10000\n",
        "  \n",
        "  return(testAccuracy,show)\n"
      ],
      "metadata": {
        "id": "fDGqbJ-2N8-m"
      },
      "execution_count": 127,
      "outputs": []
    },
    {
      "cell_type": "code",
      "source": [
        "eta=[0,0.1,0.2,0.3,0.45]\n",
        "\n",
        "NonTarget1=[]\n",
        "NonTarget2=[]\n",
        "NonTarget3=[]\n",
        "Class1=[]\n",
        "Class2=[]\n",
        "Class3=[]\n",
        "for e in eta:\n",
        "  print(e)\n",
        "  testAccuracy,show = test(x_st,y_st,model_CNN,0,e)\n",
        "  NonTarget1.append(testAccuracy)\n",
        "  Class1.append(show)\n",
        "\n",
        "  testAccuracy,show = test(x_st,y_st,model_CNN2,0,e)\n",
        "  NonTarget2.append(testAccuracy)\n",
        "  Class2.append(show)\n",
        "\n",
        "  testAccuracy,show = test(x_st,y_st,model_CNN3,0,e)\n",
        "  NonTarget3.append(testAccuracy)\n",
        "  Class3.append(show) \n",
        "  \n",
        "  "
      ],
      "metadata": {
        "colab": {
          "base_uri": "https://localhost:8080/"
        },
        "id": "EAXlVWLg0_jy",
        "outputId": "2b33913e-7f1d-485d-a4c9-3cb9ad2a2089"
      },
      "execution_count": null,
      "outputs": [
        {
          "output_type": "stream",
          "name": "stdout",
          "text": [
            "0\n"
          ]
        },
        {
          "output_type": "stream",
          "name": "stderr",
          "text": [
            "/usr/local/lib/python3.7/dist-packages/ipykernel_launcher.py:19: UserWarning: To copy construct from a tensor, it is recommended to use sourceTensor.clone().detach() or sourceTensor.clone().detach().requires_grad_(True), rather than torch.tensor(sourceTensor).\n"
          ]
        },
        {
          "output_type": "stream",
          "name": "stdout",
          "text": [
            "0.1\n",
            "0.2\n",
            "0.3\n",
            "0.45\n"
          ]
        }
      ]
    },
    {
      "cell_type": "code",
      "source": [
        "eta=[0,0.1,0.2,0.3,0.45]\n",
        "\n",
        "Target1=[]\n",
        "Target2=[]\n",
        "Target3=[]\n",
        "TClass1=[]\n",
        "TClass2=[]\n",
        "TClass3=[]\n",
        "for e in eta:\n",
        "  print(e)\n",
        "  testAccuracy,show = test(x_st,y_st,model_CNN,1,e)\n",
        "  Target1.append(testAccuracy)\n",
        "  TClass1.append(show)\n",
        "\n",
        "  testAccuracy,show = test(x_st,y_st,model_CNN2,1,e)\n",
        "  Target2.append(testAccuracy)\n",
        "  TClass2.append(show)\n",
        "\n",
        "  testAccuracy,show = test(x_st,y_st,model_CNN3,1,e)\n",
        "  Target3.append(testAccuracy)\n",
        "  TClass3.append(show) \n",
        "  \n",
        "  "
      ],
      "metadata": {
        "colab": {
          "base_uri": "https://localhost:8080/"
        },
        "id": "0ERYtxlT3d9V",
        "outputId": "afc3b6ef-013b-4a37-db64-c68e8a007078"
      },
      "execution_count": 128,
      "outputs": [
        {
          "output_type": "stream",
          "name": "stdout",
          "text": [
            "0\n"
          ]
        },
        {
          "output_type": "stream",
          "name": "stderr",
          "text": [
            "/usr/local/lib/python3.7/dist-packages/ipykernel_launcher.py:26: UserWarning: To copy construct from a tensor, it is recommended to use sourceTensor.clone().detach() or sourceTensor.clone().detach().requires_grad_(True), rather than torch.tensor(sourceTensor).\n"
          ]
        },
        {
          "output_type": "stream",
          "name": "stdout",
          "text": [
            "0.1\n",
            "0.2\n",
            "0.3\n",
            "0.45\n"
          ]
        }
      ]
    },
    {
      "cell_type": "code",
      "source": [
        "from matplotlib import pyplot as plt\n",
        "def display(Classifier):\n",
        "\n",
        "  for j in range (0,2):\n",
        "    f, axarr = plt.subplots(1,6)\n",
        "    for a in range(0,5):\n",
        "      image = Classifier[a][j].cpu()\n",
        "      image = image.detach().numpy()\n",
        "      image = image.reshape(28,28)\n",
        "\n",
        "      axarr[a].imshow(image, cmap='gray')\n",
        "  \n",
        "    differ = Classifier[4][j]-Classifier[0][j]\n",
        "    differ = differ.cpu()\n",
        "    differ = differ.detach().numpy()\n",
        "    differ = differ.reshape(28,28)\n",
        "\n",
        "    plt.title(\"difference\")\n",
        "    axarr[5].imshow(differ, cmap='gray')\n"
      ],
      "metadata": {
        "id": "ZUXGY-AYmtTH"
      },
      "execution_count": 47,
      "outputs": []
    },
    {
      "cell_type": "markdown",
      "source": [
        "# **Display Examples**"
      ],
      "metadata": {
        "id": "6pAh7jZhzAEr"
      }
    },
    {
      "cell_type": "markdown",
      "source": [
        "**Non-Targetted**"
      ],
      "metadata": {
        "id": "0vHP4yQlzQqz"
      }
    },
    {
      "cell_type": "code",
      "source": [
        "print(\"Non targeted:Classifier 1\")\n",
        "display(Class1)"
      ],
      "metadata": {
        "colab": {
          "base_uri": "https://localhost:8080/",
          "height": 224
        },
        "id": "vE8XQQlVzwYt",
        "outputId": "eed411b0-1da2-4165-99db-b7745df89e13"
      },
      "execution_count": null,
      "outputs": [
        {
          "output_type": "stream",
          "name": "stdout",
          "text": [
            "Non targeted:Classifier 1\n"
          ]
        },
        {
          "output_type": "display_data",
          "data": {
            "text/plain": [
              "<Figure size 432x288 with 6 Axes>"
            ],
            "image/png": "[encoded data removed]"
          },
          "metadata": {
            "needs_background": "light"
          }
        },
        {
          "output_type": "display_data",
          "data": {
            "text/plain": [
              "<Figure size 432x288 with 6 Axes>"
            ],
            "image/png": "[encoded data removed]"
          },
          "metadata": {
            "needs_background": "light"
          }
        }
      ]
    },
    {
      "cell_type": "code",
      "source": [
        "print(\"Non targeted:Classifier 2\")\n",
        "display(Class2)"
      ],
      "metadata": {
        "colab": {
          "base_uri": "https://localhost:8080/",
          "height": 224
        },
        "id": "aqqeXhgB0CUV",
        "outputId": "79606961-b950-4160-8899-2b07399fc240"
      },
      "execution_count": null,
      "outputs": [
        {
          "output_type": "stream",
          "name": "stdout",
          "text": [
            "Non targeted:Classifier 2\n"
          ]
        },
        {
          "output_type": "display_data",
          "data": {
            "text/plain": [
              "<Figure size 432x288 with 6 Axes>"
            ],
            "image/png": "[encoded data removed]"
          },
          "metadata": {
            "needs_background": "light"
          }
        },
        {
          "output_type": "display_data",
          "data": {
            "text/plain": [
              "<Figure size 432x288 with 6 Axes>"
            ],
            "image/png": "[encoded data removed]"
          },
          "metadata": {
            "needs_background": "light"
          }
        }
      ]
    },
    {
      "cell_type": "code",
      "source": [
        "print(\"Non targeted:Classifier 3\")\n",
        "display(Class3)"
      ],
      "metadata": {
        "colab": {
          "base_uri": "https://localhost:8080/",
          "height": 224
        },
        "id": "cp3Ujqh-0Cc0",
        "outputId": "4f6e628a-69d0-4e8a-9eab-f1c907ee2aad"
      },
      "execution_count": null,
      "outputs": [
        {
          "output_type": "stream",
          "name": "stdout",
          "text": [
            "Non targeted:Classifier 3\n"
          ]
        },
        {
          "output_type": "display_data",
          "data": {
            "text/plain": [
              "<Figure size 432x288 with 6 Axes>"
            ],
            "image/png": "[encoded data removed]"
          },
          "metadata": {
            "needs_background": "light"
          }
        },
        {
          "output_type": "display_data",
          "data": {
            "text/plain": [
              "<Figure size 432x288 with 6 Axes>"
            ],
            "image/png": "[encoded data removed]"
          },
          "metadata": {
            "needs_background": "light"
          }
        }
      ]
    },
    {
      "cell_type": "code",
      "source": [
        "plt.plot(eta,NonTarget1, color='m',label='NonTarget1')\n",
        "plt.plot(eta,NonTarget2, color='b',label='NonTarget2')\n",
        "plt.plot(eta,NonTarget3, color='c',label='NonTarget3')\n",
        "plt.xlabel('Eta')\n",
        "plt.ylabel('Accuracy')\n",
        "plt.title('test-non targeted')\n",
        "plt.legend()\n",
        "plt.show()"
      ],
      "metadata": {
        "colab": {
          "base_uri": "https://localhost:8080/",
          "height": 295
        },
        "id": "vRLwnlHwy8Au",
        "outputId": "cb6f2b42-be3a-4375-aef0-c61cd6ba1c4f"
      },
      "execution_count": null,
      "outputs": [
        {
          "output_type": "display_data",
          "data": {
            "text/plain": [
              "<Figure size 432x288 with 1 Axes>"
            ],
            "image/png": "[encoded data removed]"
          },
          "metadata": {
            "needs_background": "light"
          }
        }
      ]
    },
    {
      "cell_type": "markdown",
      "source": [
        "**Targetted**"
      ],
      "metadata": {
        "id": "Uwg7ADCmB-UW"
      }
    },
    {
      "cell_type": "code",
      "source": [
        "print(\"targeted:Classifier 1\")\n",
        "display(TClass1)"
      ],
      "metadata": {
        "id": "SnavA43gy8DO",
        "colab": {
          "base_uri": "https://localhost:8080/",
          "height": 224
        },
        "outputId": "05edc2a0-3fd7-4f62-a31f-6d4e7d1b3cd2"
      },
      "execution_count": null,
      "outputs": [
        {
          "output_type": "stream",
          "name": "stdout",
          "text": [
            "targeted:Classifier 1\n"
          ]
        },
        {
          "output_type": "display_data",
          "data": {
            "text/plain": [
              "<Figure size 432x288 with 6 Axes>"
            ],
            "image/png": "[encoded data removed]"
          },
          "metadata": {
            "needs_background": "light"
          }
        },
        {
          "output_type": "display_data",
          "data": {
            "text/plain": [
              "<Figure size 432x288 with 6 Axes>"
            ],
            "image/png": "[encoded data removed]"
          },
          "metadata": {
            "needs_background": "light"
          }
        }
      ]
    },
    {
      "cell_type": "code",
      "source": [
        "print(\"targeted:Classifier 2\")\n",
        "display(TClass2)"
      ],
      "metadata": {
        "id": "tIV959Msy8F0",
        "colab": {
          "base_uri": "https://localhost:8080/",
          "height": 224
        },
        "outputId": "85a89858-505e-43f7-f8b0-c1dc11fd34f2"
      },
      "execution_count": null,
      "outputs": [
        {
          "output_type": "stream",
          "name": "stdout",
          "text": [
            "targeted:Classifier 2\n"
          ]
        },
        {
          "output_type": "display_data",
          "data": {
            "text/plain": [
              "<Figure size 432x288 with 6 Axes>"
            ],
            "image/png": "[encoded data removed]"
          },
          "metadata": {
            "needs_background": "light"
          }
        },
        {
          "output_type": "display_data",
          "data": {
            "text/plain": [
              "<Figure size 432x288 with 6 Axes>"
            ],
            "image/png": "[encoded data removed]"
          },
          "metadata": {
            "needs_background": "light"
          }
        }
      ]
    },
    {
      "cell_type": "code",
      "source": [
        "print(\"targeted:Classifier 3\")\n",
        "display(TClass3)"
      ],
      "metadata": {
        "id": "BVJoGzrWy8Io",
        "colab": {
          "base_uri": "https://localhost:8080/",
          "height": 224
        },
        "outputId": "0452a513-c960-4e25-9951-aeb254969aec"
      },
      "execution_count": null,
      "outputs": [
        {
          "output_type": "stream",
          "name": "stdout",
          "text": [
            "targeted:Classifier 3\n"
          ]
        },
        {
          "output_type": "display_data",
          "data": {
            "text/plain": [
              "<Figure size 432x288 with 6 Axes>"
            ],
            "image/png": "[encoded data removed]"
          },
          "metadata": {
            "needs_background": "light"
          }
        },
        {
          "output_type": "display_data",
          "data": {
            "text/plain": [
              "<Figure size 432x288 with 6 Axes>"
            ],
            "image/png": "[encoded data removed]"
          },
          "metadata": {
            "needs_background": "light"
          }
        }
      ]
    },
    {
      "cell_type": "code",
      "source": [
        "plt.plot(eta,Target1, color='m',label='Target1')\n",
        "plt.plot(eta,Target2, color='b',label='Target2')\n",
        "plt.plot(eta,Target3, color='c',label='Target3')\n",
        "plt.xlabel('Eta')\n",
        "plt.ylabel('Accuracy')\n",
        "plt.title('test-targeted')\n",
        "plt.legend()\n",
        "plt.show()"
      ],
      "metadata": {
        "id": "6uBqr3I7y8LD",
        "colab": {
          "base_uri": "https://localhost:8080/",
          "height": 295
        },
        "outputId": "dc8bd307-4fab-4694-9b21-8485e71efbb0"
      },
      "execution_count": 129,
      "outputs": [
        {
          "output_type": "display_data",
          "data": {
            "text/plain": [
              "<Figure size 432x288 with 1 Axes>"
            ],
            "image/png": "[encoded data removed]"
          },
          "metadata": {
            "needs_background": "light"
          }
        }
      ]
    },
    {
      "cell_type": "code",
      "source": [],
      "metadata": {
        "id": "01tPd3FFCY3w"
      },
      "execution_count": null,
      "outputs": []
    },
    {
      "cell_type": "code",
      "source": [],
      "metadata": {
        "id": "CyzqhmacCY7F"
      },
      "execution_count": null,
      "outputs": []
    },
    {
      "cell_type": "code",
      "source": [],
      "metadata": {
        "id": "9SlkgeQyCY-Y"
      },
      "execution_count": null,
      "outputs": []
    },
    {
      "cell_type": "code",
      "source": [],
      "metadata": {
        "id": "t_yJ4XQ-CZCS"
      },
      "execution_count": null,
      "outputs": []
    },
    {
      "cell_type": "code",
      "source": [],
      "metadata": {
        "id": "VDjtzXdbCZFv"
      },
      "execution_count": null,
      "outputs": []
    }
  ]
}